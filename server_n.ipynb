{
 "cells": [
  {
   "cell_type": "code",
   "execution_count": 1,
   "metadata": {},
   "outputs": [
    {
     "name": "stdout",
     "output_type": "stream",
     "text": [
      "WARNING:tensorflow:From c:\\Users\\Астемир\\.pyenv\\pyenv-win\\versions\\3.10.6\\lib\\site-packages\\keras\\src\\losses.py:2976: The name tf.losses.sparse_softmax_cross_entropy is deprecated. Please use tf.compat.v1.losses.sparse_softmax_cross_entropy instead.\n",
      "\n"
     ]
    }
   ],
   "source": [
    "import flwr as fl\n",
    "import time as time\n",
    "\n",
    "from flwr.common import parameters_to_ndarrays"
   ]
  },
  {
   "cell_type": "code",
   "execution_count": 4,
   "metadata": {},
   "outputs": [
    {
     "name": "stderr",
     "output_type": "stream",
     "text": [
      "\u001b[92mINFO \u001b[0m:      Starting Flower server, config: num_rounds=4, no round_timeout\n",
      "\u001b[92mINFO \u001b[0m:      Flower ECE: gRPC server running (4 rounds), SSL is disabled\n",
      "\u001b[92mINFO \u001b[0m:      [INIT]\n",
      "\u001b[92mINFO \u001b[0m:      Requesting initial parameters from one random client\n",
      "\u001b[92mINFO \u001b[0m:      Received initial parameters from one random client\n",
      "\u001b[92mINFO \u001b[0m:      Evaluating initial global parameters\n",
      "\u001b[92mINFO \u001b[0m:      \n",
      "\u001b[92mINFO \u001b[0m:      [ROUND 1]\n"
     ]
    },
    {
     "name": "stdout",
     "output_type": "stream",
     "text": [
      "Параметры до агрегации в раунде 1:\n",
      "Параметр 0: [[0. 0. 0. 0. 0. 0. 0. 0. 0. 0. 0. 0. 0. 0. 0. 0. 0. 0. 0. 0. 0. 0. 0. 0.\n",
      "  0. 0. 0. 0. 0. 0. 0. 0. 0. 0. 0. 0. 0. 0. 0. 0. 0. 0. 0. 0. 0. 0. 0. 0.\n",
      "  0. 0. 0. 0. 0. 0. 0. 0. 0. 0. 0. 0. 0. 0. 0. 0. 0. 0. 0. 0. 0. 0. 0. 0.\n",
      "  0. 0. 0. 0. 0. 0. 0. 0. 0. 0. 0. 0. 0. 0. 0. 0. 0. 0. 0. 0. 0. 0. 0. 0.\n",
      "  0. 0. 0. 0. 0. 0. 0. 0. 0. 0. 0. 0. 0. 0. 0. 0. 0. 0. 0. 0. 0. 0. 0. 0.\n",
      "  0. 0. 0. 0. 0. 0. 0. 0. 0. 0. 0. 0. 0. 0. 0. 0. 0. 0. 0. 0. 0. 0.]]...\n",
      "Параметр 1: [0.]...\n"
     ]
    },
    {
     "name": "stderr",
     "output_type": "stream",
     "text": [
      "\u001b[92mINFO \u001b[0m:      configure_fit: strategy sampled 2 clients (out of 2)\n",
      "\u001b[92mINFO \u001b[0m:      aggregate_fit: received 2 results and 0 failures\n",
      "\u001b[93mWARNING \u001b[0m:   No fit_metrics_aggregation_fn provided\n",
      "\u001b[92mINFO \u001b[0m:      configure_evaluate: strategy sampled 2 clients (out of 2)\n"
     ]
    },
    {
     "name": "stdout",
     "output_type": "stream",
     "text": [
      "Параметры после агрегации в раунде 1:\n",
      "Параметр 0: [[<phe.paillier.EncryptedNumber object at 0x000001E0A3F45E40>\n",
      "  <phe.paillier.EncryptedNumber object at 0x000001E0A3F47730>\n",
      "  <phe.paillier.EncryptedNumber object at 0x000001E0A3F47FA0>\n",
      "  <phe.paillier.EncryptedNumber object at 0x000001E0A3F47C10>\n",
      "  <phe.paillier.EncryptedNumber object at 0x000001E0A3F45360>\n",
      "  <phe.paillier.EncryptedNumber object at 0x000001E0A3F451E0>\n",
      "  <phe.paillier.EncryptedNumber object at 0x000001E0A3F47B80>\n",
      "  <phe.paillier.EncryptedNumber object at 0x000001E0A3F45600>\n",
      "  <phe.paillier.EncryptedNumber object at 0x000001E0A3F466E0>\n",
      "  <phe.paillier.EncryptedNumber object at 0x000001E0A3F46080>\n",
      "  <phe.paillier.EncryptedNumber object at 0x000001E0A3F44880>\n",
      "  <phe.paillier.EncryptedNumber object at 0x000001E0A3F44D60>\n",
      "  <phe.paillier.EncryptedNumber object at 0x000001E0A3F45F60>\n",
      "  <phe.paillier.EncryptedNumber object at 0x000001E0A3F453C0>\n",
      "  <phe.paillier.EncryptedNumber object at 0x000001E0A3F47250>\n",
      "  <phe.paillier.EncryptedNumber object at 0x000001E0A3F462C0>\n",
      "  <phe.paillier.EncryptedNumber object at 0x000001E0A3F454E0>\n",
      "  <phe.paillier.EncryptedNumber object at 0x000001E0A3F47340>\n",
      "  <phe.paillier.EncryptedNumber object at 0x000001E0A3F47DC0>\n",
      "  <phe.paillier.EncryptedNumber object at 0x000001E0A3F45960>\n",
      "  <phe.paillier.EncryptedNumber object at 0x000001E0A3F47280>\n",
      "  <phe.paillier.EncryptedNumber object at 0x000001E0A3F47670>\n",
      "  <phe.paillier.EncryptedNumber object at 0x000001E0A3F44E50>\n",
      "  <phe.paillier.EncryptedNumber object at 0x000001E0A3F47F40>\n",
      "  <phe.paillier.EncryptedNumber object at 0x000001E0A3F474F0>\n",
      "  <phe.paillier.EncryptedNumber object at 0x000001E0A3F46CE0>\n",
      "  <phe.paillier.EncryptedNumber object at 0x000001E0A3F47A60>\n",
      "  <phe.paillier.EncryptedNumber object at 0x000001E0A3F461A0>\n",
      "  <phe.paillier.EncryptedNumber object at 0x000001E0A3F45D80>\n",
      "  <phe.paillier.EncryptedNumber object at 0x000001E0A3F479D0>\n",
      "  <phe.paillier.EncryptedNumber object at 0x000001E0A3F447F0>\n",
      "  <phe.paillier.EncryptedNumber object at 0x000001E0A3F47070>\n",
      "  <phe.paillier.EncryptedNumber object at 0x000001E0A3F450F0>]]...\n",
      "Параметр 1: [<phe.paillier.EncryptedNumber object at 0x000001E0A3F47A90>]...\n"
     ]
    },
    {
     "name": "stderr",
     "output_type": "stream",
     "text": [
      "\u001b[92mINFO \u001b[0m:      aggregate_evaluate: received 2 results and 0 failures\n",
      "\u001b[93mWARNING \u001b[0m:   No evaluate_metrics_aggregation_fn provided\n",
      "\u001b[92mINFO \u001b[0m:      \n",
      "\u001b[92mINFO \u001b[0m:      [ROUND 2]\n",
      "\u001b[92mINFO \u001b[0m:      configure_fit: strategy sampled 2 clients (out of 2)\n"
     ]
    },
    {
     "name": "stdout",
     "output_type": "stream",
     "text": [
      "Параметры до агрегации в раунде 2:\n",
      "Параметр 0: [[<phe.paillier.EncryptedNumber object at 0x000001E0A3F474F0>\n",
      "  <phe.paillier.EncryptedNumber object at 0x000001E0A3F462C0>\n",
      "  <phe.paillier.EncryptedNumber object at 0x000001E0A3F45BA0>\n",
      "  <phe.paillier.EncryptedNumber object at 0x000001E0A3F462F0>\n",
      "  <phe.paillier.EncryptedNumber object at 0x000001E0A3F477F0>\n",
      "  <phe.paillier.EncryptedNumber object at 0x000001E0A3F47BE0>\n",
      "  <phe.paillier.EncryptedNumber object at 0x000001E0A3F46FB0>\n",
      "  <phe.paillier.EncryptedNumber object at 0x000001E0A3F46200>\n",
      "  <phe.paillier.EncryptedNumber object at 0x000001E0A3F46F50>\n",
      "  <phe.paillier.EncryptedNumber object at 0x000001E0A3F47DC0>\n",
      "  <phe.paillier.EncryptedNumber object at 0x000001E0A3F464D0>\n",
      "  <phe.paillier.EncryptedNumber object at 0x000001E0A3F46CE0>\n",
      "  <phe.paillier.EncryptedNumber object at 0x000001E0A3F47790>\n",
      "  <phe.paillier.EncryptedNumber object at 0x000001E0A3F45030>\n",
      "  <phe.paillier.EncryptedNumber object at 0x000001E0A3F45000>\n",
      "  <phe.paillier.EncryptedNumber object at 0x000001E0A3F447F0>\n",
      "  <phe.paillier.EncryptedNumber object at 0x000001E0A3F476A0>\n",
      "  <phe.paillier.EncryptedNumber object at 0x000001E0A3F46D40>\n",
      "  <phe.paillier.EncryptedNumber object at 0x000001E0A3F44D60>\n",
      "  <phe.paillier.EncryptedNumber object at 0x000001E0A3F44880>\n",
      "  <phe.paillier.EncryptedNumber object at 0x000001E0A3F46080>\n",
      "  <phe.paillier.EncryptedNumber object at 0x000001E0A3F466E0>\n",
      "  <phe.paillier.EncryptedNumber object at 0x000001E0A3F45600>\n",
      "  <phe.paillier.EncryptedNumber object at 0x000001E0A3F47B80>\n",
      "  <phe.paillier.EncryptedNumber object at 0x000001E0A3F451E0>\n",
      "  <phe.paillier.EncryptedNumber object at 0x000001E0A3F45360>\n",
      "  <phe.paillier.EncryptedNumber object at 0x000001E0A3F47C10>\n",
      "  <phe.paillier.EncryptedNumber object at 0x000001E0A3F47FA0>\n",
      "  <phe.paillier.EncryptedNumber object at 0x000001E0A3F47730>\n",
      "  <phe.paillier.EncryptedNumber object at 0x000001E0A3F45E40>\n",
      "  <phe.paillier.EncryptedNumber object at 0x000001E0A3F45420>\n",
      "  <phe.paillier.EncryptedNumber object at 0x000001E0A3F46DD0>\n",
      "  <phe.paillier.EncryptedNumber object at 0x000001E0A3F470D0>]]...\n",
      "Параметр 1: [<phe.paillier.EncryptedNumber object at 0x000001E0A3F45F60>]...\n"
     ]
    },
    {
     "name": "stderr",
     "output_type": "stream",
     "text": [
      "\u001b[92mINFO \u001b[0m:      aggregate_fit: received 2 results and 0 failures\n",
      "\u001b[92mINFO \u001b[0m:      configure_evaluate: strategy sampled 2 clients (out of 2)\n"
     ]
    },
    {
     "name": "stdout",
     "output_type": "stream",
     "text": [
      "Параметры после агрегации в раунде 2:\n",
      "Параметр 0: [[<phe.paillier.EncryptedNumber object at 0x000001E0A3F464D0>\n",
      "  <phe.paillier.EncryptedNumber object at 0x000001E0A3F46D40>\n",
      "  <phe.paillier.EncryptedNumber object at 0x000001E0A3F46FE0>\n",
      "  <phe.paillier.EncryptedNumber object at 0x000001E0A3F47F40>\n",
      "  <phe.paillier.EncryptedNumber object at 0x000001E0A3F461D0>\n",
      "  <phe.paillier.EncryptedNumber object at 0x000001E0A3F46200>\n",
      "  <phe.paillier.EncryptedNumber object at 0x000001E0A3F46710>\n",
      "  <phe.paillier.EncryptedNumber object at 0x000001E0A3F46DD0>\n",
      "  <phe.paillier.EncryptedNumber object at 0x000001E0A3F47670>\n",
      "  <phe.paillier.EncryptedNumber object at 0x000001E0A3F47F70>\n",
      "  <phe.paillier.EncryptedNumber object at 0x000001E0A3F478B0>\n",
      "  <phe.paillier.EncryptedNumber object at 0x000001E0A3F45BA0>\n",
      "  <phe.paillier.EncryptedNumber object at 0x000001E0A3F462C0>\n",
      "  <phe.paillier.EncryptedNumber object at 0x000001E0A3F47A90>\n",
      "  <phe.paillier.EncryptedNumber object at 0x000001E0A3F47250>\n",
      "  <phe.paillier.EncryptedNumber object at 0x000001E0A3F45510>\n",
      "  <phe.paillier.EncryptedNumber object at 0x000001E0A3F47010>\n",
      "  <phe.paillier.EncryptedNumber object at 0x000001E0A3F47A60>\n",
      "  <phe.paillier.EncryptedNumber object at 0x000001E0A3F47DC0>\n",
      "  <phe.paillier.EncryptedNumber object at 0x000001E0A3F45D20>\n",
      "  <phe.paillier.EncryptedNumber object at 0x000001E0A3F47070>\n",
      "  <phe.paillier.EncryptedNumber object at 0x000001E0A3F47400>\n",
      "  <phe.paillier.EncryptedNumber object at 0x000001E0A3F47730>\n",
      "  <phe.paillier.EncryptedNumber object at 0x000001E0A3F47C10>\n",
      "  <phe.paillier.EncryptedNumber object at 0x000001E0A3F456F0>\n",
      "  <phe.paillier.EncryptedNumber object at 0x000001E0A3F46B60>\n",
      "  <phe.paillier.EncryptedNumber object at 0x000001E0A3F47FA0>\n",
      "  <phe.paillier.EncryptedNumber object at 0x000001E0A3F45A20>\n",
      "  <phe.paillier.EncryptedNumber object at 0x000001E0A3F466E0>\n",
      "  <phe.paillier.EncryptedNumber object at 0x000001E0A3F6EB90>\n",
      "  <phe.paillier.EncryptedNumber object at 0x000001E0A3F6EAD0>\n",
      "  <phe.paillier.EncryptedNumber object at 0x000001E0A3F6EB30>\n",
      "  <phe.paillier.EncryptedNumber object at 0x000001E0A3F6EA70>]]...\n",
      "Параметр 1: [<phe.paillier.EncryptedNumber object at 0x000001E0A3F6E260>]...\n"
     ]
    },
    {
     "name": "stderr",
     "output_type": "stream",
     "text": [
      "\u001b[92mINFO \u001b[0m:      aggregate_evaluate: received 2 results and 0 failures\n",
      "\u001b[92mINFO \u001b[0m:      \n",
      "\u001b[92mINFO \u001b[0m:      [ROUND 3]\n",
      "\u001b[92mINFO \u001b[0m:      configure_fit: strategy sampled 2 clients (out of 2)\n"
     ]
    },
    {
     "name": "stdout",
     "output_type": "stream",
     "text": [
      "Параметры до агрегации в раунде 3:\n",
      "Параметр 0: [[<phe.paillier.EncryptedNumber object at 0x000001E0A3F46440>\n",
      "  <phe.paillier.EncryptedNumber object at 0x000001E0A3F461A0>\n",
      "  <phe.paillier.EncryptedNumber object at 0x000001E0A3F462F0>\n",
      "  <phe.paillier.EncryptedNumber object at 0x000001E0A3F479A0>\n",
      "  <phe.paillier.EncryptedNumber object at 0x000001E0A3F44D90>\n",
      "  <phe.paillier.EncryptedNumber object at 0x000001E0A3F46F20>\n",
      "  <phe.paillier.EncryptedNumber object at 0x000001E0A3F472E0>\n",
      "  <phe.paillier.EncryptedNumber object at 0x000001E0A3F44970>\n",
      "  <phe.paillier.EncryptedNumber object at 0x000001E0A3F47400>\n",
      "  <phe.paillier.EncryptedNumber object at 0x000001E0A3F45F60>\n",
      "  <phe.paillier.EncryptedNumber object at 0x000001E0A3F46BF0>\n",
      "  <phe.paillier.EncryptedNumber object at 0x000001E0A3F477F0>\n",
      "  <phe.paillier.EncryptedNumber object at 0x000001E0A3F47FA0>\n",
      "  <phe.paillier.EncryptedNumber object at 0x000001E0A3F47C10>\n",
      "  <phe.paillier.EncryptedNumber object at 0x000001E0A3F466E0>\n",
      "  <phe.paillier.EncryptedNumber object at 0x000001E0A3F45D20>\n",
      "  <phe.paillier.EncryptedNumber object at 0x000001E0A3F451E0>\n",
      "  <phe.paillier.EncryptedNumber object at 0x000001E0A3F44FD0>\n",
      "  <phe.paillier.EncryptedNumber object at 0x000001E0A3F45BA0>\n",
      "  <phe.paillier.EncryptedNumber object at 0x000001E0A3F478B0>\n",
      "  <phe.paillier.EncryptedNumber object at 0x000001E0A3F47F70>\n",
      "  <phe.paillier.EncryptedNumber object at 0x000001E0A3F47670>\n",
      "  <phe.paillier.EncryptedNumber object at 0x000001E0A3F46DD0>\n",
      "  <phe.paillier.EncryptedNumber object at 0x000001E0A3F46710>\n",
      "  <phe.paillier.EncryptedNumber object at 0x000001E0A3F46200>\n",
      "  <phe.paillier.EncryptedNumber object at 0x000001E0A3F461D0>\n",
      "  <phe.paillier.EncryptedNumber object at 0x000001E0A3F47F40>\n",
      "  <phe.paillier.EncryptedNumber object at 0x000001E0A3F46FE0>\n",
      "  <phe.paillier.EncryptedNumber object at 0x000001E0A3F46D40>\n",
      "  <phe.paillier.EncryptedNumber object at 0x000001E0A3F464D0>\n",
      "  <phe.paillier.EncryptedNumber object at 0x000001E0A3F47490>\n",
      "  <phe.paillier.EncryptedNumber object at 0x000001E0A3F46FB0>\n",
      "  <phe.paillier.EncryptedNumber object at 0x000001E0A3F6E260>]]...\n",
      "Параметр 1: [<phe.paillier.EncryptedNumber object at 0x000001E0A3F6E890>]...\n"
     ]
    },
    {
     "name": "stderr",
     "output_type": "stream",
     "text": [
      "\u001b[92mINFO \u001b[0m:      aggregate_fit: received 2 results and 0 failures\n",
      "\u001b[92mINFO \u001b[0m:      configure_evaluate: strategy sampled 2 clients (out of 2)\n"
     ]
    },
    {
     "name": "stdout",
     "output_type": "stream",
     "text": [
      "Параметры после агрегации в раунде 3:\n",
      "Параметр 0: [[<phe.paillier.EncryptedNumber object at 0x000001E0A3F476A0>\n",
      "  <phe.paillier.EncryptedNumber object at 0x000001E0A3F46F50>\n",
      "  <phe.paillier.EncryptedNumber object at 0x000001E0A3F451E0>\n",
      "  <phe.paillier.EncryptedNumber object at 0x000001E0A3F45A20>\n",
      "  <phe.paillier.EncryptedNumber object at 0x000001E0A3F45D20>\n",
      "  <phe.paillier.EncryptedNumber object at 0x000001E0A3F45D80>\n",
      "  <phe.paillier.EncryptedNumber object at 0x000001E0A3F461D0>\n",
      "  <phe.paillier.EncryptedNumber object at 0x000001E0A3F46080>\n",
      "  <phe.paillier.EncryptedNumber object at 0x000001E0A3F46D40>\n",
      "  <phe.paillier.EncryptedNumber object at 0x000001E0A3F47C10>\n",
      "  <phe.paillier.EncryptedNumber object at 0x000001E0A3F45E40>\n",
      "  <phe.paillier.EncryptedNumber object at 0x000001E0A3F47BE0>\n",
      "  <phe.paillier.EncryptedNumber object at 0x000001E0A3F46B90>\n",
      "  <phe.paillier.EncryptedNumber object at 0x000001E0A3F47C70>\n",
      "  <phe.paillier.EncryptedNumber object at 0x000001E0A3F46FE0>\n",
      "  <phe.paillier.EncryptedNumber object at 0x000001E0A3F46140>\n",
      "  <phe.paillier.EncryptedNumber object at 0x000001E0A3F447F0>\n",
      "  <phe.paillier.EncryptedNumber object at 0x000001E0A3F46200>\n",
      "  <phe.paillier.EncryptedNumber object at 0x000001E0A3F47280>\n",
      "  <phe.paillier.EncryptedNumber object at 0x000001E0A3F462F0>\n",
      "  <phe.paillier.EncryptedNumber object at 0x000001E0A3F454E0>\n",
      "  <phe.paillier.EncryptedNumber object at 0x000001E0A3F45510>\n",
      "  <phe.paillier.EncryptedNumber object at 0x000001E0A3F47670>\n",
      "  <phe.paillier.EncryptedNumber object at 0x000001E0A3F46710>\n",
      "  <phe.paillier.EncryptedNumber object at 0x000001E0A3F44B50>\n",
      "  <phe.paillier.EncryptedNumber object at 0x000001E0A3F46EF0>\n",
      "  <phe.paillier.EncryptedNumber object at 0x000001E0A3F47DC0>\n",
      "  <phe.paillier.EncryptedNumber object at 0x000001E0A3F45810>\n",
      "  <phe.paillier.EncryptedNumber object at 0x000001E0A3F47AC0>\n",
      "  <phe.paillier.EncryptedNumber object at 0x000001E0A3F475B0>\n",
      "  <phe.paillier.EncryptedNumber object at 0x000001E0A3F458D0>\n",
      "  <phe.paillier.EncryptedNumber object at 0x000001E0A3F44880>\n",
      "  <phe.paillier.EncryptedNumber object at 0x000001E0A3F45ED0>]]...\n",
      "Параметр 1: [<phe.paillier.EncryptedNumber object at 0x000001E0A3F45E10>]...\n"
     ]
    },
    {
     "name": "stderr",
     "output_type": "stream",
     "text": [
      "\u001b[92mINFO \u001b[0m:      aggregate_evaluate: received 2 results and 0 failures\n",
      "\u001b[92mINFO \u001b[0m:      \n",
      "\u001b[92mINFO \u001b[0m:      [ROUND 4]\n",
      "\u001b[92mINFO \u001b[0m:      configure_fit: strategy sampled 2 clients (out of 2)\n"
     ]
    },
    {
     "name": "stdout",
     "output_type": "stream",
     "text": [
      "Параметры до агрегации в раунде 4:\n",
      "Параметр 0: [[<phe.paillier.EncryptedNumber object at 0x000001E0A3F47010>\n",
      "  <phe.paillier.EncryptedNumber object at 0x000001E0A3F454E0>\n",
      "  <phe.paillier.EncryptedNumber object at 0x000001E0A3F47430>\n",
      "  <phe.paillier.EncryptedNumber object at 0x000001E0A3F45330>\n",
      "  <phe.paillier.EncryptedNumber object at 0x000001E0A3F47280>\n",
      "  <phe.paillier.EncryptedNumber object at 0x000001E0A3F45600>\n",
      "  <phe.paillier.EncryptedNumber object at 0x000001E0A3F46EF0>\n",
      "  <phe.paillier.EncryptedNumber object at 0x000001E0A3F47250>\n",
      "  <phe.paillier.EncryptedNumber object at 0x000001E0A3F44A00>\n",
      "  <phe.paillier.EncryptedNumber object at 0x000001E0A3F45030>\n",
      "  <phe.paillier.EncryptedNumber object at 0x000001E0A3F45690>\n",
      "  <phe.paillier.EncryptedNumber object at 0x000001E0A3F47DC0>\n",
      "  <phe.paillier.EncryptedNumber object at 0x000001E0A3F470D0>\n",
      "  <phe.paillier.EncryptedNumber object at 0x000001E0A3F45150>\n",
      "  <phe.paillier.EncryptedNumber object at 0x000001E0A3F47AC0>\n",
      "  <phe.paillier.EncryptedNumber object at 0x000001E0A3F45960>\n",
      "  <phe.paillier.EncryptedNumber object at 0x000001E0A3F475E0>\n",
      "  <phe.paillier.EncryptedNumber object at 0x000001E0A3F45390>\n",
      "  <phe.paillier.EncryptedNumber object at 0x000001E0A3F47880>\n",
      "  <phe.paillier.EncryptedNumber object at 0x000001E0A3F470A0>\n",
      "  <phe.paillier.EncryptedNumber object at 0x000001E0A3F47490>\n",
      "  <phe.paillier.EncryptedNumber object at 0x000001E0A3F466E0>\n",
      "  <phe.paillier.EncryptedNumber object at 0x000001E0A3F44C70>\n",
      "  <phe.paillier.EncryptedNumber object at 0x000001E0A3F47400>\n",
      "  <phe.paillier.EncryptedNumber object at 0x000001E0A3F44970>\n",
      "  <phe.paillier.EncryptedNumber object at 0x000001E0A3F44C40>\n",
      "  <phe.paillier.EncryptedNumber object at 0x000001E0A3F47610>\n",
      "  <phe.paillier.EncryptedNumber object at 0x000001E0A3F464D0>\n",
      "  <phe.paillier.EncryptedNumber object at 0x000001E0A3F451B0>\n",
      "  <phe.paillier.EncryptedNumber object at 0x000001E0A3F472E0>\n",
      "  <phe.paillier.EncryptedNumber object at 0x000001E0A3F47FA0>\n",
      "  <phe.paillier.EncryptedNumber object at 0x000001E0A3F45F60>\n",
      "  <phe.paillier.EncryptedNumber object at 0x000001E0A3F45420>]]...\n",
      "Параметр 1: [<phe.paillier.EncryptedNumber object at 0x000001E0A3F462F0>]...\n"
     ]
    },
    {
     "name": "stderr",
     "output_type": "stream",
     "text": [
      "\u001b[92mINFO \u001b[0m:      aggregate_fit: received 2 results and 0 failures\n",
      "\u001b[92mINFO \u001b[0m:      configure_evaluate: strategy sampled 2 clients (out of 2)\n"
     ]
    },
    {
     "name": "stdout",
     "output_type": "stream",
     "text": [
      "Параметры после агрегации в раунде 4:\n",
      "Параметр 0: [[<phe.paillier.EncryptedNumber object at 0x000001E0A3F475E0>\n",
      "  <phe.paillier.EncryptedNumber object at 0x000001E0A3F47010>\n",
      "  <phe.paillier.EncryptedNumber object at 0x000001E0A3F46FE0>\n",
      "  <phe.paillier.EncryptedNumber object at 0x000001E0A3F479D0>\n",
      "  <phe.paillier.EncryptedNumber object at 0x000001E0A3F45E10>\n",
      "  <phe.paillier.EncryptedNumber object at 0x000001E0A3F472E0>\n",
      "  <phe.paillier.EncryptedNumber object at 0x000001E0A3F47280>\n",
      "  <phe.paillier.EncryptedNumber object at 0x000001E0A3F46E60>\n",
      "  <phe.paillier.EncryptedNumber object at 0x000001E0A3F47C40>\n",
      "  <phe.paillier.EncryptedNumber object at 0x000001E0A3F449D0>\n",
      "  <phe.paillier.EncryptedNumber object at 0x000001E0A3F44CA0>\n",
      "  <phe.paillier.EncryptedNumber object at 0x000001E0A3F47400>\n",
      "  <phe.paillier.EncryptedNumber object at 0x000001E0A3F47790>\n",
      "  <phe.paillier.EncryptedNumber object at 0x000001E0A3F47190>\n",
      "  <phe.paillier.EncryptedNumber object at 0x000001E0A3F44970>\n",
      "  <phe.paillier.EncryptedNumber object at 0x000001E0A3F45A20>\n",
      "  <phe.paillier.EncryptedNumber object at 0x000001E0A3F46230>\n",
      "  <phe.paillier.EncryptedNumber object at 0x000001E0A3F47730>\n",
      "  <phe.paillier.EncryptedNumber object at 0x000001E0A3F47490>\n",
      "  <phe.paillier.EncryptedNumber object at 0x000001E0A3F47CD0>\n",
      "  <phe.paillier.EncryptedNumber object at 0x000001E0A3F45330>\n",
      "  <phe.paillier.EncryptedNumber object at 0x000001E0A3F45510>\n",
      "  <phe.paillier.EncryptedNumber object at 0x000001E0A3F473A0>\n",
      "  <phe.paillier.EncryptedNumber object at 0x000001E0A3F460B0>\n",
      "  <phe.paillier.EncryptedNumber object at 0x000001E0A3F44880>\n",
      "  <phe.paillier.EncryptedNumber object at 0x000001E0A3F47460>\n",
      "  <phe.paillier.EncryptedNumber object at 0x000001E0A3F44C70>\n",
      "  <phe.paillier.EncryptedNumber object at 0x000001E0A3F47610>\n",
      "  <phe.paillier.EncryptedNumber object at 0x000001E0A3F461D0>\n",
      "  <phe.paillier.EncryptedNumber object at 0x000001E0A3F464D0>\n",
      "  <phe.paillier.EncryptedNumber object at 0x000001E0A3F46380>\n",
      "  <phe.paillier.EncryptedNumber object at 0x000001E0A3F477C0>\n",
      "  <phe.paillier.EncryptedNumber object at 0x000001E0A3F6DA20>]]...\n",
      "Параметр 1: [<phe.paillier.EncryptedNumber object at 0x000001E0A3F6CB50>]...\n"
     ]
    },
    {
     "name": "stderr",
     "output_type": "stream",
     "text": [
      "\u001b[92mINFO \u001b[0m:      aggregate_evaluate: received 2 results and 0 failures\n",
      "\u001b[92mINFO \u001b[0m:      \n",
      "\u001b[92mINFO \u001b[0m:      [SUMMARY]\n",
      "\u001b[92mINFO \u001b[0m:      Run finished 4 round(s) in 51.01s\n",
      "\u001b[92mINFO \u001b[0m:      \tHistory (loss, distributed):\n",
      "\u001b[92mINFO \u001b[0m:      \t\tround 1: 0.3882191580761001\n",
      "\u001b[92mINFO \u001b[0m:      \t\tround 2: 1.1044530586446704\n",
      "\u001b[92mINFO \u001b[0m:      \t\tround 3: 0.6777798544669846\n",
      "\u001b[92mINFO \u001b[0m:      \t\tround 4: 0.5480154446828839\n",
      "\u001b[92mINFO \u001b[0m:      \n"
     ]
    },
    {
     "name": "stdout",
     "output_type": "stream",
     "text": [
      "Общее время выполнения: 58.40346598625183 секунд\n"
     ]
    }
   ],
   "source": [
    "\n",
    "\n",
    "def fit_round(server_round):\n",
    "    \"\"\"Send round number to client.\"\"\"\n",
    "    return {\"server_round\": server_round}\n",
    "\n",
    "\n",
    "\n",
    "def print_parameters(parameters, stage):\n",
    "    \"\"\"Utility function to print parameters.\"\"\"\n",
    "    param_arrays = parameters_to_ndarrays(parameters)\n",
    "    print(f\"Параметры {stage}:\")\n",
    "    for idx, param in enumerate(param_arrays):\n",
    "        print(f\"Параметр {idx}: {param[:5]}...\") \n",
    "\n",
    "\n",
    "class CustomFedAvg(fl.server.strategy.FedAvg):\n",
    "    \"\"\"Custom FedAvg to print parameters before and after aggregation.\"\"\"\n",
    "\n",
    "    def configure_fit(self, server_round, parameters, client_manager):\n",
    "       \n",
    "        print_parameters(parameters, f\"до агрегации в раунде {server_round}\")\n",
    "        return super().configure_fit(server_round, parameters, client_manager)\n",
    "\n",
    "    def aggregate_fit(self, server_round, results, failures):\n",
    "       \n",
    "        aggregated_parameters, metrics_aggregated = super().aggregate_fit(server_round, results, failures)\n",
    "        \n",
    "        \n",
    "        if aggregated_parameters:\n",
    "            print_parameters(aggregated_parameters, f\"после агрегации в раунде {server_round}\")\n",
    "        \n",
    "        return aggregated_parameters, metrics_aggregated\n",
    "\n",
    "\n",
    "if __name__ == \"__main__\":\n",
    "\n",
    "    strategy = CustomFedAvg(\n",
    "        min_available_clients=2,\n",
    "        on_fit_config_fn=fit_round,\n",
    "    )\n",
    "    \n",
    "    start_time = time.time()\n",
    "\n",
    "    fl.server.start_server(\n",
    "        server_address=\"0.0.0.0:8080\",\n",
    "        strategy=strategy,\n",
    "        config=fl.server.ServerConfig(num_rounds=4)\n",
    "    )\n",
    "\n",
    "    end_time = time.time()\n",
    "    ex_time = (end_time - start_time)\n",
    "    print(f\"Общее время выполнения: {ex_time} секунд\")\n"
   ]
  },
  {
   "cell_type": "code",
   "execution_count": null,
   "metadata": {},
   "outputs": [],
   "source": []
  }
 ],
 "metadata": {
  "kernelspec": {
   "display_name": "Python 3",
   "language": "python",
   "name": "python3"
  },
  "language_info": {
   "codemirror_mode": {
    "name": "ipython",
    "version": 3
   },
   "file_extension": ".py",
   "mimetype": "text/x-python",
   "name": "python",
   "nbconvert_exporter": "python",
   "pygments_lexer": "ipython3",
   "version": "3.10.6"
  }
 },
 "nbformat": 4,
 "nbformat_minor": 2
}
