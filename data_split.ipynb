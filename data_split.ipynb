{
 "cells": [
  {
   "cell_type": "code",
   "execution_count": 1,
   "metadata": {},
   "outputs": [],
   "source": [
    "import pandas as pd \n",
    "import os\n",
    "import json\n",
    "import numpy as np \n",
    "\n",
    "from sklearn.linear_model import LogisticRegression\n",
    "import matplotlib.pyplot as plt\n",
    "from sklearn.preprocessing import LabelEncoder\n",
    "from sklearn.model_selection import train_test_split\n",
    "from sklearn.metrics import log_loss, accuracy_score, f1_score, roc_auc_score\n",
    "from sklearn.preprocessing import OneHotEncoder, StandardScaler, MinMaxScaler\n",
    "from category_encoders.ordinal import OrdinalEncoder\n",
    "from sklearn.compose import ColumnTransformer\n",
    "from imblearn.over_sampling import SMOTE"
   ]
  },
  {
   "cell_type": "markdown",
   "metadata": {},
   "source": []
  },
  {
   "cell_type": "code",
   "execution_count": 2,
   "metadata": {},
   "outputs": [],
   "source": [
    "df = pd.read_csv('./fraud_oracle.csv')\n",
    "all_data = df.copy()"
   ]
  },
  {
   "cell_type": "code",
   "execution_count": 3,
   "metadata": {},
   "outputs": [],
   "source": [
    "age_groups = {\n",
    "    '16-17': 'Young',\n",
    "    '18-20': 'Young',\n",
    "    '21-25': 'Young',\n",
    "    '26-30': 'Young',\n",
    "    '31-35': 'Middle-aged',\n",
    "    '36-40': 'Middle-aged',\n",
    "    '41-50': 'Middle-aged',\n",
    "    '51-65': 'Senior',\n",
    "    '65+': 'Senior'\n",
    "}\n",
    "all_data['AgeGroup'] = all_data['AgeOfPolicyHolder'].map(age_groups)\n",
    "all_data.drop(columns=['AgeOfPolicyHolder'], inplace=True)\n",
    "\n",
    "\n",
    "def categorize_range(value):\n",
    "    if value == 'less than 20000':\n",
    "        return 'low'\n",
    "    elif value in ['20000 to 29000', '30000 to 39000']:\n",
    "        return 'mid'\n",
    "    elif value in ['40000 to 59000', '60000 to 69000', 'more than 69000']:\n",
    "        return 'high'\n",
    "    else:\n",
    "        return 'mid'\n",
    "\n",
    "\n",
    "all_data['VehiclePrice_Cat'] = all_data['VehiclePrice'].apply(categorize_range)\n"
   ]
  },
  {
   "cell_type": "code",
   "execution_count": 4,
   "metadata": {},
   "outputs": [
    {
     "name": "stderr",
     "output_type": "stream",
     "text": [
      "c:\\Users\\Астемир\\.pyenv\\pyenv-win\\versions\\3.10.6\\lib\\site-packages\\category_encoders\\ordinal.py:198: FutureWarning: Downcasting object dtype arrays on .fillna, .ffill, .bfill is deprecated and will change in a future version. Call result.infer_objects(copy=False) instead. To opt-in to the future behavior, set `pd.set_option('future.no_silent_downcasting', True)`\n",
      "  X[column] = X[column].astype(\"object\").fillna(np.nan).map(col_mapping)\n",
      "c:\\Users\\Астемир\\.pyenv\\pyenv-win\\versions\\3.10.6\\lib\\site-packages\\category_encoders\\ordinal.py:198: FutureWarning: Downcasting object dtype arrays on .fillna, .ffill, .bfill is deprecated and will change in a future version. Call result.infer_objects(copy=False) instead. To opt-in to the future behavior, set `pd.set_option('future.no_silent_downcasting', True)`\n",
      "  X[column] = X[column].astype(\"object\").fillna(np.nan).map(col_mapping)\n",
      "c:\\Users\\Астемир\\.pyenv\\pyenv-win\\versions\\3.10.6\\lib\\site-packages\\category_encoders\\ordinal.py:198: FutureWarning: Downcasting object dtype arrays on .fillna, .ffill, .bfill is deprecated and will change in a future version. Call result.infer_objects(copy=False) instead. To opt-in to the future behavior, set `pd.set_option('future.no_silent_downcasting', True)`\n",
      "  X[column] = X[column].astype(\"object\").fillna(np.nan).map(col_mapping)\n",
      "c:\\Users\\Астемир\\.pyenv\\pyenv-win\\versions\\3.10.6\\lib\\site-packages\\category_encoders\\ordinal.py:198: FutureWarning: Downcasting object dtype arrays on .fillna, .ffill, .bfill is deprecated and will change in a future version. Call result.infer_objects(copy=False) instead. To opt-in to the future behavior, set `pd.set_option('future.no_silent_downcasting', True)`\n",
      "  X[column] = X[column].astype(\"object\").fillna(np.nan).map(col_mapping)\n",
      "c:\\Users\\Астемир\\.pyenv\\pyenv-win\\versions\\3.10.6\\lib\\site-packages\\category_encoders\\ordinal.py:198: FutureWarning: Downcasting object dtype arrays on .fillna, .ffill, .bfill is deprecated and will change in a future version. Call result.infer_objects(copy=False) instead. To opt-in to the future behavior, set `pd.set_option('future.no_silent_downcasting', True)`\n",
      "  X[column] = X[column].astype(\"object\").fillna(np.nan).map(col_mapping)\n",
      "c:\\Users\\Астемир\\.pyenv\\pyenv-win\\versions\\3.10.6\\lib\\site-packages\\category_encoders\\ordinal.py:198: FutureWarning: Downcasting object dtype arrays on .fillna, .ffill, .bfill is deprecated and will change in a future version. Call result.infer_objects(copy=False) instead. To opt-in to the future behavior, set `pd.set_option('future.no_silent_downcasting', True)`\n",
      "  X[column] = X[column].astype(\"object\").fillna(np.nan).map(col_mapping)\n"
     ]
    }
   ],
   "source": [
    "\n",
    "label_encoder = LabelEncoder()\n",
    "\n",
    "\n",
    "col_ordering = [\n",
    "    {'col':'PastNumberOfClaims','mapping':{'none':0 ,'1':1,'2 to 4':3,'more than 4':5 }},\n",
    "    {'col':'NumberOfSuppliments','mapping':{'none':0,'1 to 2':1,'3 to 5':3,'more than 5':6}},\n",
    "    {'col':'VehiclePrice','mapping':{'more than 69000':5,'20000 to 29000':1,'30000 to 39000':2,'less than 20000':0,\n",
    "                                     '40000 to 59000':3,'60000 to 69000':4}},\n",
    "    {'col':'AgeOfVehicle','mapping':{'new': 0, '2 years': 1, '3 years': 2, '4 years': 3, '5 years': 4, '6 years': 5, '7 years': 6, 'more than 7': 7}},\n",
    "    {'col':'Year','mapping': {1994: 0, 1995: 1, 1996: 2}},\n",
    "    {'col':'Days_Policy_Accident','mapping': {'none': 0, '1 to 7': 1,'8 to 15': 2,'15 to 30': 3, 'more than 30': 4}},\n",
    "    {'col':'Days_Policy_Claim','mapping': {'none': 0, '1 to 7': 1,'8 to 15': 2,'15 to 30': 3, 'more than 30':4 }},\n",
    "    {'col':'AddressChange_Claim','mapping': {'1 year': 1, 'no change': 0, '4 to 8 years': 4, '2 to 3 years': 2, 'under 6 months': 0.5}},\n",
    "    {'col':'AgeGroup','mapping': {'Young': 0, 'Middle-aged': 1, 'Senior': 2}},\n",
    "    {'col':'VehiclePrice_Cat','mapping': {'high': 2, 'mid': 1, 'low': 0}},\n",
    "    {'col':'NumberOfCars','mapping': {'3 to 4': 3, '1 vehicle': 1, '2 vehicles': 2, '5 to 8': 7, 'more than 8': 9}},\n",
    "]\n",
    "ord_encoder = OrdinalEncoder(mapping = col_ordering, return_df=True)\n",
    "\n",
    "all_data = ord_encoder.fit_transform(all_data)\n",
    "\n",
    "\n",
    "\n",
    "\n",
    "for col in all_data.columns:\n",
    "    if all_data[col].dtype == 'object':\n",
    "        all_data[col] = label_encoder.fit_transform(all_data[col])\n",
    "\n"
   ]
  },
  {
   "cell_type": "code",
   "execution_count": 5,
   "metadata": {},
   "outputs": [
    {
     "data": {
      "text/html": [
       "<div>\n",
       "<style scoped>\n",
       "    .dataframe tbody tr th:only-of-type {\n",
       "        vertical-align: middle;\n",
       "    }\n",
       "\n",
       "    .dataframe tbody tr th {\n",
       "        vertical-align: top;\n",
       "    }\n",
       "\n",
       "    .dataframe thead th {\n",
       "        text-align: right;\n",
       "    }\n",
       "</style>\n",
       "<table border=\"1\" class=\"dataframe\">\n",
       "  <thead>\n",
       "    <tr style=\"text-align: right;\">\n",
       "      <th></th>\n",
       "      <th>Month</th>\n",
       "      <th>WeekOfMonth</th>\n",
       "      <th>DayOfWeek</th>\n",
       "      <th>Make</th>\n",
       "      <th>AccidentArea</th>\n",
       "      <th>DayOfWeekClaimed</th>\n",
       "      <th>MonthClaimed</th>\n",
       "      <th>WeekOfMonthClaimed</th>\n",
       "      <th>Sex</th>\n",
       "      <th>MaritalStatus</th>\n",
       "      <th>...</th>\n",
       "      <th>PoliceReportFiled</th>\n",
       "      <th>WitnessPresent</th>\n",
       "      <th>AgentType</th>\n",
       "      <th>NumberOfSuppliments</th>\n",
       "      <th>AddressChange_Claim</th>\n",
       "      <th>NumberOfCars</th>\n",
       "      <th>Year</th>\n",
       "      <th>BasePolicy</th>\n",
       "      <th>AgeGroup</th>\n",
       "      <th>VehiclePrice_Cat</th>\n",
       "    </tr>\n",
       "  </thead>\n",
       "  <tbody>\n",
       "    <tr>\n",
       "      <th>0</th>\n",
       "      <td>2</td>\n",
       "      <td>5</td>\n",
       "      <td>6</td>\n",
       "      <td>6</td>\n",
       "      <td>1</td>\n",
       "      <td>6</td>\n",
       "      <td>5</td>\n",
       "      <td>1</td>\n",
       "      <td>0</td>\n",
       "      <td>2</td>\n",
       "      <td>...</td>\n",
       "      <td>0</td>\n",
       "      <td>0</td>\n",
       "      <td>0</td>\n",
       "      <td>0</td>\n",
       "      <td>1</td>\n",
       "      <td>3</td>\n",
       "      <td>0</td>\n",
       "      <td>2</td>\n",
       "      <td>-1.0</td>\n",
       "      <td>2</td>\n",
       "    </tr>\n",
       "    <tr>\n",
       "      <th>1</th>\n",
       "      <td>4</td>\n",
       "      <td>3</td>\n",
       "      <td>6</td>\n",
       "      <td>6</td>\n",
       "      <td>1</td>\n",
       "      <td>2</td>\n",
       "      <td>5</td>\n",
       "      <td>4</td>\n",
       "      <td>1</td>\n",
       "      <td>2</td>\n",
       "      <td>...</td>\n",
       "      <td>1</td>\n",
       "      <td>0</td>\n",
       "      <td>0</td>\n",
       "      <td>0</td>\n",
       "      <td>0</td>\n",
       "      <td>1</td>\n",
       "      <td>0</td>\n",
       "      <td>1</td>\n",
       "      <td>-1.0</td>\n",
       "      <td>2</td>\n",
       "    </tr>\n",
       "    <tr>\n",
       "      <th>2</th>\n",
       "      <td>10</td>\n",
       "      <td>5</td>\n",
       "      <td>0</td>\n",
       "      <td>6</td>\n",
       "      <td>1</td>\n",
       "      <td>5</td>\n",
       "      <td>10</td>\n",
       "      <td>2</td>\n",
       "      <td>1</td>\n",
       "      <td>1</td>\n",
       "      <td>...</td>\n",
       "      <td>0</td>\n",
       "      <td>0</td>\n",
       "      <td>0</td>\n",
       "      <td>0</td>\n",
       "      <td>0</td>\n",
       "      <td>1</td>\n",
       "      <td>0</td>\n",
       "      <td>1</td>\n",
       "      <td>-1.0</td>\n",
       "      <td>2</td>\n",
       "    </tr>\n",
       "    <tr>\n",
       "      <th>3</th>\n",
       "      <td>6</td>\n",
       "      <td>2</td>\n",
       "      <td>2</td>\n",
       "      <td>17</td>\n",
       "      <td>0</td>\n",
       "      <td>1</td>\n",
       "      <td>6</td>\n",
       "      <td>1</td>\n",
       "      <td>1</td>\n",
       "      <td>1</td>\n",
       "      <td>...</td>\n",
       "      <td>1</td>\n",
       "      <td>0</td>\n",
       "      <td>0</td>\n",
       "      <td>6</td>\n",
       "      <td>0</td>\n",
       "      <td>1</td>\n",
       "      <td>0</td>\n",
       "      <td>2</td>\n",
       "      <td>-1.0</td>\n",
       "      <td>1</td>\n",
       "    </tr>\n",
       "    <tr>\n",
       "      <th>4</th>\n",
       "      <td>4</td>\n",
       "      <td>5</td>\n",
       "      <td>1</td>\n",
       "      <td>6</td>\n",
       "      <td>1</td>\n",
       "      <td>6</td>\n",
       "      <td>4</td>\n",
       "      <td>2</td>\n",
       "      <td>0</td>\n",
       "      <td>2</td>\n",
       "      <td>...</td>\n",
       "      <td>0</td>\n",
       "      <td>0</td>\n",
       "      <td>0</td>\n",
       "      <td>0</td>\n",
       "      <td>0</td>\n",
       "      <td>1</td>\n",
       "      <td>0</td>\n",
       "      <td>1</td>\n",
       "      <td>-1.0</td>\n",
       "      <td>2</td>\n",
       "    </tr>\n",
       "    <tr>\n",
       "      <th>...</th>\n",
       "      <td>...</td>\n",
       "      <td>...</td>\n",
       "      <td>...</td>\n",
       "      <td>...</td>\n",
       "      <td>...</td>\n",
       "      <td>...</td>\n",
       "      <td>...</td>\n",
       "      <td>...</td>\n",
       "      <td>...</td>\n",
       "      <td>...</td>\n",
       "      <td>...</td>\n",
       "      <td>...</td>\n",
       "      <td>...</td>\n",
       "      <td>...</td>\n",
       "      <td>...</td>\n",
       "      <td>...</td>\n",
       "      <td>...</td>\n",
       "      <td>...</td>\n",
       "      <td>...</td>\n",
       "      <td>...</td>\n",
       "      <td>...</td>\n",
       "    </tr>\n",
       "    <tr>\n",
       "      <th>15415</th>\n",
       "      <td>9</td>\n",
       "      <td>4</td>\n",
       "      <td>0</td>\n",
       "      <td>17</td>\n",
       "      <td>1</td>\n",
       "      <td>6</td>\n",
       "      <td>10</td>\n",
       "      <td>5</td>\n",
       "      <td>1</td>\n",
       "      <td>1</td>\n",
       "      <td>...</td>\n",
       "      <td>0</td>\n",
       "      <td>0</td>\n",
       "      <td>0</td>\n",
       "      <td>0</td>\n",
       "      <td>0</td>\n",
       "      <td>1</td>\n",
       "      <td>2</td>\n",
       "      <td>1</td>\n",
       "      <td>-1.0</td>\n",
       "      <td>1</td>\n",
       "    </tr>\n",
       "    <tr>\n",
       "      <th>15416</th>\n",
       "      <td>9</td>\n",
       "      <td>5</td>\n",
       "      <td>4</td>\n",
       "      <td>13</td>\n",
       "      <td>1</td>\n",
       "      <td>1</td>\n",
       "      <td>3</td>\n",
       "      <td>1</td>\n",
       "      <td>1</td>\n",
       "      <td>1</td>\n",
       "      <td>...</td>\n",
       "      <td>0</td>\n",
       "      <td>0</td>\n",
       "      <td>0</td>\n",
       "      <td>6</td>\n",
       "      <td>0</td>\n",
       "      <td>3</td>\n",
       "      <td>2</td>\n",
       "      <td>2</td>\n",
       "      <td>-1.0</td>\n",
       "      <td>1</td>\n",
       "    </tr>\n",
       "    <tr>\n",
       "      <th>15417</th>\n",
       "      <td>9</td>\n",
       "      <td>5</td>\n",
       "      <td>4</td>\n",
       "      <td>17</td>\n",
       "      <td>0</td>\n",
       "      <td>1</td>\n",
       "      <td>3</td>\n",
       "      <td>1</td>\n",
       "      <td>1</td>\n",
       "      <td>2</td>\n",
       "      <td>...</td>\n",
       "      <td>0</td>\n",
       "      <td>0</td>\n",
       "      <td>0</td>\n",
       "      <td>1</td>\n",
       "      <td>0</td>\n",
       "      <td>1</td>\n",
       "      <td>2</td>\n",
       "      <td>1</td>\n",
       "      <td>-1.0</td>\n",
       "      <td>1</td>\n",
       "    </tr>\n",
       "    <tr>\n",
       "      <th>15418</th>\n",
       "      <td>2</td>\n",
       "      <td>1</td>\n",
       "      <td>1</td>\n",
       "      <td>17</td>\n",
       "      <td>1</td>\n",
       "      <td>5</td>\n",
       "      <td>3</td>\n",
       "      <td>2</td>\n",
       "      <td>0</td>\n",
       "      <td>1</td>\n",
       "      <td>...</td>\n",
       "      <td>0</td>\n",
       "      <td>0</td>\n",
       "      <td>0</td>\n",
       "      <td>6</td>\n",
       "      <td>0</td>\n",
       "      <td>1</td>\n",
       "      <td>2</td>\n",
       "      <td>0</td>\n",
       "      <td>-1.0</td>\n",
       "      <td>1</td>\n",
       "    </tr>\n",
       "    <tr>\n",
       "      <th>15419</th>\n",
       "      <td>2</td>\n",
       "      <td>2</td>\n",
       "      <td>6</td>\n",
       "      <td>17</td>\n",
       "      <td>1</td>\n",
       "      <td>5</td>\n",
       "      <td>3</td>\n",
       "      <td>3</td>\n",
       "      <td>1</td>\n",
       "      <td>2</td>\n",
       "      <td>...</td>\n",
       "      <td>0</td>\n",
       "      <td>0</td>\n",
       "      <td>0</td>\n",
       "      <td>1</td>\n",
       "      <td>0</td>\n",
       "      <td>1</td>\n",
       "      <td>2</td>\n",
       "      <td>1</td>\n",
       "      <td>-1.0</td>\n",
       "      <td>1</td>\n",
       "    </tr>\n",
       "  </tbody>\n",
       "</table>\n",
       "<p>15420 rows × 34 columns</p>\n",
       "</div>"
      ],
      "text/plain": [
       "       Month  WeekOfMonth  DayOfWeek  Make  AccidentArea  DayOfWeekClaimed  \\\n",
       "0          2            5          6     6             1                 6   \n",
       "1          4            3          6     6             1                 2   \n",
       "2         10            5          0     6             1                 5   \n",
       "3          6            2          2    17             0                 1   \n",
       "4          4            5          1     6             1                 6   \n",
       "...      ...          ...        ...   ...           ...               ...   \n",
       "15415      9            4          0    17             1                 6   \n",
       "15416      9            5          4    13             1                 1   \n",
       "15417      9            5          4    17             0                 1   \n",
       "15418      2            1          1    17             1                 5   \n",
       "15419      2            2          6    17             1                 5   \n",
       "\n",
       "       MonthClaimed  WeekOfMonthClaimed  Sex  MaritalStatus  ...  \\\n",
       "0                 5                   1    0              2  ...   \n",
       "1                 5                   4    1              2  ...   \n",
       "2                10                   2    1              1  ...   \n",
       "3                 6                   1    1              1  ...   \n",
       "4                 4                   2    0              2  ...   \n",
       "...             ...                 ...  ...            ...  ...   \n",
       "15415            10                   5    1              1  ...   \n",
       "15416             3                   1    1              1  ...   \n",
       "15417             3                   1    1              2  ...   \n",
       "15418             3                   2    0              1  ...   \n",
       "15419             3                   3    1              2  ...   \n",
       "\n",
       "       PoliceReportFiled  WitnessPresent  AgentType  NumberOfSuppliments  \\\n",
       "0                      0               0          0                    0   \n",
       "1                      1               0          0                    0   \n",
       "2                      0               0          0                    0   \n",
       "3                      1               0          0                    6   \n",
       "4                      0               0          0                    0   \n",
       "...                  ...             ...        ...                  ...   \n",
       "15415                  0               0          0                    0   \n",
       "15416                  0               0          0                    6   \n",
       "15417                  0               0          0                    1   \n",
       "15418                  0               0          0                    6   \n",
       "15419                  0               0          0                    1   \n",
       "\n",
       "       AddressChange_Claim  NumberOfCars  Year  BasePolicy  AgeGroup  \\\n",
       "0                        1             3     0           2      -1.0   \n",
       "1                        0             1     0           1      -1.0   \n",
       "2                        0             1     0           1      -1.0   \n",
       "3                        0             1     0           2      -1.0   \n",
       "4                        0             1     0           1      -1.0   \n",
       "...                    ...           ...   ...         ...       ...   \n",
       "15415                    0             1     2           1      -1.0   \n",
       "15416                    0             3     2           2      -1.0   \n",
       "15417                    0             1     2           1      -1.0   \n",
       "15418                    0             1     2           0      -1.0   \n",
       "15419                    0             1     2           1      -1.0   \n",
       "\n",
       "       VehiclePrice_Cat  \n",
       "0                     2  \n",
       "1                     2  \n",
       "2                     2  \n",
       "3                     1  \n",
       "4                     2  \n",
       "...                 ...  \n",
       "15415                 1  \n",
       "15416                 1  \n",
       "15417                 1  \n",
       "15418                 1  \n",
       "15419                 1  \n",
       "\n",
       "[15420 rows x 34 columns]"
      ]
     },
     "execution_count": 5,
     "metadata": {},
     "output_type": "execute_result"
    }
   ],
   "source": [
    "all_data"
   ]
  },
  {
   "cell_type": "code",
   "execution_count": 6,
   "metadata": {},
   "outputs": [],
   "source": [
    "df.rename(columns = {'FraudFound_P':'Fraud'},inplace = True)\n",
    "all_data.rename(columns = {'FraudFound_P':'Fraud'},inplace = True)"
   ]
  },
  {
   "cell_type": "code",
   "execution_count": 77,
   "metadata": {},
   "outputs": [],
   "source": [
    "def split_random_(df):\n",
    "\n",
    "    x_1, x_2 = train_test_split(df[df.Fraud == 1], test_size=0.03, random_state=3)\n",
    "    x_3, x_4 = train_test_split(df[df.Fraud == 0 ], test_size = 0.6, random_state=33)\n",
    "    data_1 = pd.concat([x_1,x_3])\n",
    "    data_2 = pd.concat([x_2, x_4])\n",
    "    return data_1, data_2\n"
   ]
  },
  {
   "cell_type": "code",
   "execution_count": 8,
   "metadata": {},
   "outputs": [],
   "source": [
    "X, y = all_data.drop(columns='Fraud'), all_data.Fraud"
   ]
  },
  {
   "cell_type": "code",
   "execution_count": 9,
   "metadata": {},
   "outputs": [],
   "source": [
    "X_, X_test_glob, y_, y_test_glob = train_test_split(X, y, test_size=0.2, random_state=11)"
   ]
  },
  {
   "cell_type": "code",
   "execution_count": 10,
   "metadata": {},
   "outputs": [],
   "source": [
    "smote = SMOTE(random_state=12)\n",
    "scaler = MinMaxScaler()"
   ]
  },
  {
   "cell_type": "code",
   "execution_count": 49,
   "metadata": {},
   "outputs": [],
   "source": [
    "X_test = scaler.transform(X_test_glob)"
   ]
  },
  {
   "cell_type": "code",
   "execution_count": null,
   "metadata": {},
   "outputs": [],
   "source": [
    "X_scale = scaler.fit_transform(X_)\n",
    "X_train_smote, y_train_smote = smote.fit_resample(X_scale, y_)\n",
    "\n",
    "\n",
    "\n"
   ]
  },
  {
   "cell_type": "code",
   "execution_count": 14,
   "metadata": {},
   "outputs": [],
   "source": [
    "model_1 = LogisticRegression(max_iter=300)"
   ]
  },
  {
   "cell_type": "code",
   "execution_count": 17,
   "metadata": {},
   "outputs": [
    {
     "data": {
      "text/plain": [
       "array([[0., 0., 0., 0., 0., 0., 0., 0., 0., 0., 0., 0., 0., 0., 0., 0.,\n",
       "        0., 0., 0., 0., 0., 0., 0., 0., 0., 0., 0., 0., 0., 0., 0., 0.,\n",
       "        0.]])"
      ]
     },
     "execution_count": 17,
     "metadata": {},
     "output_type": "execute_result"
    }
   ],
   "source": [
    "model_1.coef_"
   ]
  },
  {
   "cell_type": "code",
   "execution_count": 28,
   "metadata": {},
   "outputs": [],
   "source": [
    "def add_(listik, value):\n",
    "    for i in range(1,51):\n",
    "        listik.append(value)\n",
    "    return listik\n",
    "\n",
    "\n",
    "L, roc, acc, f1  = 0.5393789661607953, 0.7618739315462117, 0.6254863813229572, 0.21906693711967545\n",
    "\n",
    "losses, roc_auc_s, accuracy_s, f1_s = add_(list(), L), add_(list(), roc), add_(list(), acc), add_(list(), f1) \n"
   ]
  },
  {
   "cell_type": "code",
   "execution_count": null,
   "metadata": {},
   "outputs": [],
   "source": [
    "json_file_path = './results/metrics.json'\n",
    "\n",
    "with open(json_file_path, 'r') as file:\n",
    "    data = json.load(file)\n",
    "\n",
    "\n",
    "global_model_metrics = {\n",
    "    \"losses\": losses,\n",
    "    \"ROC_AUCs\": roc_auc_s,\n",
    "    \"ACCURACYs\": accuracy_s,\n",
    "    \"F1s\": f1_s\n",
    "}\n",
    "\n",
    "\n",
    "data[\"global_model\"] = [global_model_metrics]\n",
    "\n",
    "\n",
    "with open(json_file_path, 'w') as file:\n",
    "    json.dump(data, file, indent=4)\n",
    "\n",
    "print(\"Результаты глобального обучения успешно добавлены в JSON файл.\")"
   ]
  },
  {
   "cell_type": "markdown",
   "metadata": {},
   "source": [
    "* Global model train"
   ]
  },
  {
   "cell_type": "code",
   "execution_count": 11,
   "metadata": {},
   "outputs": [],
   "source": [
    "X_1, X_2, y_1, y_2 = train_test_split(X_, y_, test_size=0.5, random_state=22)"
   ]
  },
  {
   "cell_type": "code",
   "execution_count": 23,
   "metadata": {},
   "outputs": [],
   "source": [
    "def preparation(X, y):\n",
    "    X_train_1_scale = scaler.fit_transform(X)\n",
    "    X_train_1, y_train_1 = smote.fit_resample(X_train_1_scale, y)\n",
    "\n",
    "    return X_train_1, y_train_1"
   ]
  },
  {
   "cell_type": "code",
   "execution_count": 24,
   "metadata": {},
   "outputs": [],
   "source": [
    "def fit_predict(X_train, X_test, y_train, y_test):\n",
    "    model = LogisticRegression(max_iter=100)\n",
    "    model.fit(X_train, y_train)\n",
    "    y_pred_proba = model.predict_proba(X_test)[:, 1]\n",
    "    y_pred = model.predict(X_test)\n",
    "    return  log_loss(y_test, y_pred_proba), roc_auc_score(y_test, y_pred_proba), accuracy_score(y_test, y_pred), f1_score(y_test, y_pred)\n",
    "    \n"
   ]
  },
  {
   "cell_type": "code",
   "execution_count": 18,
   "metadata": {},
   "outputs": [],
   "source": [
    "loss_1, roc_auc_1, accuracy_1, f1_1 = fit_predict(X_train_1, X_test, y_train_1, y_test_glob)"
   ]
  },
  {
   "cell_type": "code",
   "execution_count": 19,
   "metadata": {},
   "outputs": [
    {
     "data": {
      "text/plain": [
       "(0.550586282857652, 0.7791237769614083, 0.6248378728923476, 0.2187711006076975)"
      ]
     },
     "execution_count": 19,
     "metadata": {},
     "output_type": "execute_result"
    }
   ],
   "source": [
    "(loss_1, roc_auc_1, accuracy_1, f1_1)"
   ]
  },
  {
   "cell_type": "code",
   "execution_count": 25,
   "metadata": {},
   "outputs": [],
   "source": [
    "X_train_2, y_train_2 = preparation(X_2, y_2) "
   ]
  },
  {
   "cell_type": "code",
   "execution_count": 26,
   "metadata": {},
   "outputs": [],
   "source": [
    "loss_2, roc_auc_2, accuracy_2, f1_2 = fit_predict(X_train_2, X_test, y_train_2, y_test_glob)"
   ]
  },
  {
   "cell_type": "code",
   "execution_count": 27,
   "metadata": {},
   "outputs": [
    {
     "data": {
      "text/plain": [
       "(0.5627955715203258,\n",
       " 0.7862219474047938,\n",
       " 0.6271076523994812,\n",
       " 0.22402159244264508)"
      ]
     },
     "execution_count": 27,
     "metadata": {},
     "output_type": "execute_result"
    }
   ],
   "source": [
    "(loss_2, roc_auc_2, accuracy_2, f1_2)"
   ]
  },
  {
   "cell_type": "code",
   "execution_count": 29,
   "metadata": {},
   "outputs": [],
   "source": [
    "loss_1_, roc_auc_1_, accuracy_1_, f1_1_ = add_(list(),loss_1 ), add_(list(),roc_auc_1), add_(list(),accuracy_1), add_(list(),f1_1)"
   ]
  },
  {
   "cell_type": "code",
   "execution_count": 34,
   "metadata": {},
   "outputs": [],
   "source": [
    "loss_2_, roc_auc_2_, accuracy_2_, f1_2_ = add_(list(),loss_2 ), add_(list(),roc_auc_2), add_(list(),accuracy_2), add_(list(),f1_2)"
   ]
  },
  {
   "cell_type": "code",
   "execution_count": 35,
   "metadata": {},
   "outputs": [
    {
     "data": {
      "text/plain": [
       "50"
      ]
     },
     "execution_count": 35,
     "metadata": {},
     "output_type": "execute_result"
    }
   ],
   "source": [
    "len(loss_2_)\n"
   ]
  },
  {
   "cell_type": "code",
   "execution_count": 38,
   "metadata": {},
   "outputs": [
    {
     "name": "stdout",
     "output_type": "stream",
     "text": [
      "Результаты глобального обучения успешно добавлены в JSON файл.\n"
     ]
    }
   ],
   "source": [
    "json_file_path = './IID_m.json'\n",
    "\n",
    "with open(json_file_path, 'r') as file:\n",
    "    data = json.load(file)\n",
    "\n",
    "\n",
    "local_model_1 = {\n",
    "    \"losses\": loss_1_,\n",
    "    \"ROC_AUCs\": roc_auc_1_,\n",
    "    \"ACCURACYs\": accuracy_1_,\n",
    "    \"F1s\": f1_1_\n",
    "}\n",
    "\n",
    "\n",
    "data[\"local_model_1\"] = [local_model_1]\n",
    "\n",
    "\n",
    "with open(json_file_path, 'w') as file:\n",
    "    json.dump(data, file, indent=4)\n",
    "\n",
    "print(\"Результаты глобального обучения успешно добавлены в JSON файл.\")"
   ]
  },
  {
   "cell_type": "code",
   "execution_count": 39,
   "metadata": {},
   "outputs": [
    {
     "name": "stdout",
     "output_type": "stream",
     "text": [
      "Результаты глобального обучения успешно добавлены в JSON файл.\n"
     ]
    }
   ],
   "source": [
    "json_file_path = './IID_m.json'\n",
    "\n",
    "with open(json_file_path, 'r') as file:\n",
    "    data = json.load(file)\n",
    "\n",
    "\n",
    "local_model_2 = {\n",
    "    \"losses\": loss_2_,\n",
    "    \"ROC_AUCs\": roc_auc_2_,\n",
    "    \"ACCURACYs\": accuracy_2_,\n",
    "    \"F1s\": f1_2_\n",
    "}\n",
    "\n",
    "\n",
    "data[\"local_model_2\"] = [local_model_2]\n",
    "\n",
    "\n",
    "with open(json_file_path, 'w') as file:\n",
    "    json.dump(data, file, indent=4)\n",
    "\n",
    "print(\"Результаты глобального обучения успешно добавлены в JSON файл.\")"
   ]
  },
  {
   "cell_type": "code",
   "execution_count": 12,
   "metadata": {},
   "outputs": [],
   "source": [
    "df1 = pd.concat([X_1, y_1],axis=1)\n",
    "df2 = pd.concat([X_2, y_2],axis=1)\n"
   ]
  },
  {
   "cell_type": "code",
   "execution_count": 13,
   "metadata": {},
   "outputs": [
    {
     "name": "stdout",
     "output_type": "stream",
     "text": [
      "Fraud\n",
      "0    5794\n",
      "1     374\n",
      "Name: count, dtype: int64\n"
     ]
    },
    {
     "data": {
      "image/png": "[encoded data removed]",
      "text/plain": [
       "<Figure size 640x480 with 1 Axes>"
      ]
     },
     "metadata": {},
     "output_type": "display_data"
    }
   ],
   "source": [
    "df1.Fraud.hist()\n",
    "print(df2.Fraud.value_counts())"
   ]
  },
  {
   "cell_type": "code",
   "execution_count": 14,
   "metadata": {},
   "outputs": [
    {
     "name": "stdout",
     "output_type": "stream",
     "text": [
      "Fraud\n",
      "0    5809\n",
      "1     359\n",
      "Name: count, dtype: int64\n"
     ]
    },
    {
     "data": {
      "image/png": "[encoded data removed]",
      "text/plain": [
       "<Figure size 640x480 with 1 Axes>"
      ]
     },
     "metadata": {},
     "output_type": "display_data"
    }
   ],
   "source": [
    "df2.Fraud.hist()\n",
    "print(df1.Fraud.value_counts())"
   ]
  },
  {
   "cell_type": "code",
   "execution_count": 17,
   "metadata": {},
   "outputs": [],
   "source": [
    "# data_1.to_csv('df_1.csv', index=False)\n",
    "# data_2.to_csv('df_2.csv', index=False)\n"
   ]
  },
  {
   "cell_type": "code",
   "execution_count": 18,
   "metadata": {},
   "outputs": [],
   "source": [
    "glob_data_test = pd.concat([X_test_glob, y_test_glob], axis=1)\n",
    "glob_data_test.to_csv('test_glob.csv', index=False)"
   ]
  },
  {
   "cell_type": "code",
   "execution_count": 48,
   "metadata": {},
   "outputs": [],
   "source": [
    "df1.to_csv('IID_df_1.csv', index=False)\n",
    "df2.to_csv('IID_df_2.csv', index=False)"
   ]
  },
  {
   "cell_type": "code",
   "execution_count": 78,
   "metadata": {},
   "outputs": [],
   "source": [
    "df_for_clients = pd.concat([X_, y_], axis=1)\n",
    "\n",
    "data1, data2 = split_random_(df_for_clients)"
   ]
  },
  {
   "cell_type": "code",
   "execution_count": 79,
   "metadata": {},
   "outputs": [],
   "source": [
    "X_train_1,  y_train_1 = data1.drop(columns='Fraud'), data1.Fraud\n",
    "X_train_2, y_train_2 = data2.drop(columns='Fraud'), data2.Fraud"
   ]
  },
  {
   "cell_type": "code",
   "execution_count": 80,
   "metadata": {},
   "outputs": [],
   "source": [
    "X_scale_1 = scaler.fit_transform(X_train_1)\n",
    "X_train_1_, y_train_1_ = smote.fit_resample(X_scale_1, y_train_1)"
   ]
  },
  {
   "cell_type": "code",
   "execution_count": 81,
   "metadata": {},
   "outputs": [],
   "source": [
    "loss_1, roc_auc_1, accuracy_1, f1_1 = fit_predict(X_train_1_, X_test, y_train_1_, y_test_glob)"
   ]
  },
  {
   "cell_type": "code",
   "execution_count": 82,
   "metadata": {},
   "outputs": [
    {
     "data": {
      "text/plain": [
       "(0.5655761084543522, 0.7855344996908302, 0.6138132295719845, 0.225113858165257)"
      ]
     },
     "execution_count": 82,
     "metadata": {},
     "output_type": "execute_result"
    }
   ],
   "source": [
    "(loss_1, roc_auc_1, accuracy_1, f1_1)"
   ]
  },
  {
   "cell_type": "code",
   "execution_count": null,
   "metadata": {},
   "outputs": [],
   "source": []
  },
  {
   "cell_type": "code",
   "execution_count": 83,
   "metadata": {},
   "outputs": [],
   "source": [
    "X_scale_2 = scaler.fit_transform(X_train_2)\n",
    "X_train_2_, y_train_2_ = smote.fit_resample(X_scale_2, y_train_2)"
   ]
  },
  {
   "cell_type": "code",
   "execution_count": 84,
   "metadata": {},
   "outputs": [
    {
     "data": {
      "text/plain": [
       "(0.43823600842632604,\n",
       " 0.7382097261121012,\n",
       " 0.7973411154345007,\n",
       " 0.19146183699870634)"
      ]
     },
     "execution_count": 84,
     "metadata": {},
     "output_type": "execute_result"
    }
   ],
   "source": [
    "loss_2, roc_auc_2, accuracy_2, f1_2 = fit_predict(X_train_2_, X_test, y_train_2_, y_test_glob)\n",
    "(loss_2, roc_auc_2, accuracy_2, f1_2)"
   ]
  },
  {
   "cell_type": "code",
   "execution_count": 88,
   "metadata": {},
   "outputs": [],
   "source": [
    "roc_mean = (0.7382097261121012 + 0.7855344996908302)/2\n",
    "loss_mean = (0.43823600842632604 + 0.5655761084543522)/2\n",
    "accuracy_mean = (0.6573411154345007+ 0.6138132295719845)/2\n",
    "f1_mean = (0.19146183699870634 + 0.225113858165257)/2"
   ]
  },
  {
   "cell_type": "code",
   "execution_count": 89,
   "metadata": {},
   "outputs": [
    {
     "data": {
      "text/plain": [
       "(0.7618721129014657,\n",
       " 0.5019060584403392,\n",
       " 0.6355771725032426,\n",
       " 0.20828784758198166)"
      ]
     },
     "execution_count": 89,
     "metadata": {},
     "output_type": "execute_result"
    }
   ],
   "source": [
    "(roc_mean, loss_mean, accuracy_mean, f1_mean)"
   ]
  },
  {
   "cell_type": "code",
   "execution_count": 90,
   "metadata": {},
   "outputs": [],
   "source": [
    "loss_1_, roc_auc_1_, accuracy_1_, f1_1_ = add_(list(),loss_1 ), add_(list(), roc_auc_2), add_(list(),accuracy_1), add_(list(),f1_2)"
   ]
  },
  {
   "cell_type": "code",
   "execution_count": 91,
   "metadata": {},
   "outputs": [
    {
     "name": "stdout",
     "output_type": "stream",
     "text": [
      "Результаты глобального обучения успешно добавлены в JSON файл.\n"
     ]
    }
   ],
   "source": [
    "json_file_path = './Non_iid_m.json'\n",
    "\n",
    "with open(json_file_path, 'r') as file:\n",
    "    data = json.load(file)\n",
    "\n",
    "\n",
    "local_model_1 = {\n",
    "    \"losses\": loss_1_,\n",
    "    \"ROC_AUCs\": roc_auc_1_,\n",
    "    \"ACCURACYs\": accuracy_1_,\n",
    "    \"F1s\": f1_1_\n",
    "}\n",
    "\n",
    "\n",
    "data[\"local_model_1\"] = [local_model_1]\n",
    "\n",
    "\n",
    "with open(json_file_path, 'w') as file:\n",
    "    json.dump(data, file, indent=4)\n",
    "\n",
    "print(\"Результаты глобального обучения успешно добавлены в JSON файл.\")"
   ]
  },
  {
   "cell_type": "code",
   "execution_count": 16,
   "metadata": {},
   "outputs": [
    {
     "name": "stdout",
     "output_type": "stream",
     "text": [
      "Fraud\n",
      "0    11603\n",
      "1      733\n",
      "Name: count, dtype: int64\n"
     ]
    },
    {
     "data": {
      "image/png": "[encoded data removed]",
      "text/plain": [
       "<Figure size 640x480 with 1 Axes>"
      ]
     },
     "metadata": {},
     "output_type": "display_data"
    }
   ],
   "source": [
    "df_for_clients.Fraud.hist()\n",
    "print(df_for_clients.Fraud.value_counts())"
   ]
  },
  {
   "cell_type": "code",
   "execution_count": 85,
   "metadata": {},
   "outputs": [
    {
     "data": {
      "text/plain": [
       "<Axes: >"
      ]
     },
     "execution_count": 85,
     "metadata": {},
     "output_type": "execute_result"
    },
    {
     "data": {
      "image/png": "[encoded data removed]",
      "text/plain": [
       "<Figure size 640x480 with 1 Axes>"
      ]
     },
     "metadata": {},
     "output_type": "display_data"
    }
   ],
   "source": [
    "data1.Fraud.hist()"
   ]
  },
  {
   "cell_type": "code",
   "execution_count": 65,
   "metadata": {},
   "outputs": [
    {
     "data": {
      "text/plain": [
       "<Axes: >"
      ]
     },
     "execution_count": 65,
     "metadata": {},
     "output_type": "execute_result"
    },
    {
     "data": {
      "image/png": "[encoded data removed]",
      "text/plain": [
       "<Figure size 640x480 with 1 Axes>"
      ]
     },
     "metadata": {},
     "output_type": "display_data"
    }
   ],
   "source": [
    "data2.Fraud.hist()"
   ]
  },
  {
   "cell_type": "code",
   "execution_count": 86,
   "metadata": {},
   "outputs": [
    {
     "name": "stdout",
     "output_type": "stream",
     "text": [
      "Fraud\n",
      "0    4641\n",
      "1     711\n",
      "Name: count, dtype: int64\n"
     ]
    },
    {
     "data": {
      "image/png": "[encoded data removed]",
      "text/plain": [
       "<Figure size 640x480 with 1 Axes>"
      ]
     },
     "metadata": {},
     "output_type": "display_data"
    }
   ],
   "source": [
    "data1.Fraud.hist()\n",
    "print(data1.Fraud.value_counts())"
   ]
  },
  {
   "cell_type": "code",
   "execution_count": 87,
   "metadata": {},
   "outputs": [
    {
     "name": "stdout",
     "output_type": "stream",
     "text": [
      "Fraud\n",
      "0    6962\n",
      "1      22\n",
      "Name: count, dtype: int64\n"
     ]
    },
    {
     "data": {
      "image/png": "[encoded data removed]",
      "text/plain": [
       "<Figure size 640x480 with 1 Axes>"
      ]
     },
     "metadata": {},
     "output_type": "display_data"
    }
   ],
   "source": [
    "data2.Fraud.hist()\n",
    "print(data2.Fraud.value_counts())"
   ]
  },
  {
   "cell_type": "code",
   "execution_count": 24,
   "metadata": {},
   "outputs": [],
   "source": [
    "data1.to_csv(\"Non_IID_1.csv\", index=False)\n",
    "data2.to_csv(\"Non_IID_2.csv\", index=False)"
   ]
  },
  {
   "cell_type": "code",
   "execution_count": 17,
   "metadata": {},
   "outputs": [
    {
     "data": {
      "text/plain": [
       "11603"
      ]
     },
     "execution_count": 17,
     "metadata": {},
     "output_type": "execute_result"
    }
   ],
   "source": [
    "8123 + 3480"
   ]
  },
  {
   "cell_type": "code",
   "execution_count": null,
   "metadata": {},
   "outputs": [],
   "source": []
  }
 ],
 "metadata": {
  "kernelspec": {
   "display_name": "Python 3",
   "language": "python",
   "name": "python3"
  },
  "language_info": {
   "codemirror_mode": {
    "name": "ipython",
    "version": 3
   },
   "file_extension": ".py",
   "mimetype": "text/x-python",
   "name": "python",
   "nbconvert_exporter": "python",
   "pygments_lexer": "ipython3",
   "version": "3.10.6"
  }
 },
 "nbformat": 4,
 "nbformat_minor": 4
}
