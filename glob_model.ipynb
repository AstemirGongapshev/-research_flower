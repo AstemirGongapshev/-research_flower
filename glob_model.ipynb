{
 "cells": [
  {
   "cell_type": "code",
   "execution_count": 1,
   "metadata": {},
   "outputs": [],
   "source": [
    "import pandas as pd"
   ]
  },
  {
   "cell_type": "code",
   "execution_count": 3,
   "metadata": {},
   "outputs": [],
   "source": [
    "data_1 = pd.read_csv(\"./datas/IID_1.csv\")\n",
    "data_2 = pd.read_csv(\"./datas/IID_2.csv\")\n",
    "data_all = pd.read_csv(\"./datas/IID.csv\")"
   ]
  },
  {
   "cell_type": "code",
   "execution_count": 6,
   "metadata": {},
   "outputs": [],
   "source": [
    "columns = data_all.drop(columns=\"Fraud\").columns"
   ]
  },
  {
   "cell_type": "code",
   "execution_count": 10,
   "metadata": {},
   "outputs": [
    {
     "data": {
      "text/plain": [
       "<Axes: >"
      ]
     },
     "execution_count": 10,
     "metadata": {},
     "output_type": "execute_result"
    },
    {
     "data": {
      "image/png": "[encoded data removed]",
      "text/plain": [
       "<Figure size 640x480 with 1 Axes>"
      ]
     },
     "metadata": {},
     "output_type": "display_data"
    }
   ],
   "source": [
    "data_all.Fraud.hist()"
   ]
  },
  {
   "cell_type": "code",
   "execution_count": 1,
   "metadata": {},
   "outputs": [
    {
     "name": "stdout",
     "output_type": "stream",
     "text": [
      "Client 0: X shape = (100, 60), y shape = (100,), unique labels = [2 7]\n",
      "Client 1: X shape = (100, 60), y shape = (100,), unique labels = [0 1 5 6 8 9]\n",
      "Client 2: X shape = (100, 60), y shape = (100,), unique labels = [5 9]\n",
      "Client 3: X shape = (100, 60), y shape = (100,), unique labels = [1 7 9]\n"
     ]
    }
   ],
   "source": [
    "import numpy as np\n",
    "\n",
    "def generate_synthetic_data(num_clients=4, num_features=60, num_classes=10, num_samples_per_client=100, alpha=1.0, beta=1.0):\n",
    "    \"\"\"\n",
    "    Generate synthetic data for distributed clients with heterogeneity.\n",
    "\n",
    "    Args:\n",
    "        num_clients (int): Number of clients (devices).\n",
    "        num_features (int): Number of features (dimensions of x).\n",
    "        num_classes (int): Number of output classes.\n",
    "        num_samples_per_client (int): Number of samples per client.\n",
    "        alpha (float): Controls heterogeneity in local models.\n",
    "        beta (float): Controls heterogeneity in local data.\n",
    "\n",
    "    Returns:\n",
    "        dict: A dictionary containing data for each client. Keys are client IDs, and values are tuples (X, y).\n",
    "    \"\"\"\n",
    "    # Initialize global model parameters\n",
    "    W_global = np.random.randn(num_classes, num_features)\n",
    "    b_global = np.random.randn(num_classes)\n",
    "\n",
    "    # Covariance matrix for input data (diagonal)\n",
    "    Sigma = np.diag([j**-1.2 for j in range(1, num_features + 1)])\n",
    "\n",
    "    # Storage for client data\n",
    "    client_data = {}\n",
    "\n",
    "    for k in range(num_clients):\n",
    "        # Generate local model parameters for client k\n",
    "        W_k = W_global + np.random.randn(num_classes, num_features)\n",
    "        u_k = np.random.normal(0, alpha, size=num_classes)\n",
    "        b_k = u_k + np.random.normal(0, 1, size=num_classes)\n",
    "\n",
    "        \n",
    "        B_k = np.random.normal(0, beta, size=num_features)\n",
    "        v_k = B_k + np.random.normal(0, 1, size=num_features)\n",
    "\n",
    "        # Generate input data X and labels y for client k\n",
    "        X_k = np.random.multivariate_normal(mean=v_k, cov=Sigma, size=num_samples_per_client)\n",
    "        logits = X_k @ W_k.T + b_k  # Linear transformation for classification\n",
    "        y_k = np.argmax(logits, axis=1)  # Assign labels using argmax\n",
    "\n",
    "        # Store data for client k\n",
    "        client_data[k] = (X_k, y_k)\n",
    "\n",
    "    return client_data\n",
    "\n",
    "# Example usage:\n",
    "num_clients = 4\n",
    "num_samples_per_client = 100\n",
    "alpha = 0.5\n",
    "beta = 0.5\n",
    "\n",
    "client_data = generate_synthetic_data(num_clients=num_clients, num_samples_per_client=num_samples_per_client, alpha=alpha, beta=beta)\n",
    "\n",
    "# Print a summary of the generated data\n",
    "for client_id, (X, y) in client_data.items():\n",
    "    print(f\"Client {client_id}: X shape = {X.shape}, y shape = {y.shape}, unique labels = {np.unique(y)}\")\n"
   ]
  },
  {
   "cell_type": "code",
   "execution_count": null,
   "metadata": {},
   "outputs": [],
   "source": []
  },
  {
   "cell_type": "code",
   "execution_count": null,
   "metadata": {},
   "outputs": [],
   "source": []
  }
 ],
 "metadata": {
  "kernelspec": {
   "display_name": "Python 3",
   "language": "python",
   "name": "python3"
  },
  "language_info": {
   "codemirror_mode": {
    "name": "ipython",
    "version": 3
   },
   "file_extension": ".py",
   "mimetype": "text/x-python",
   "name": "python",
   "nbconvert_exporter": "python",
   "pygments_lexer": "ipython3",
   "version": "3.10.6"
  }
 },
 "nbformat": 4,
 "nbformat_minor": 2
}
